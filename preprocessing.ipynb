{
 "cells": [
  {
   "cell_type": "code",
   "execution_count": 1,
   "id": "d32bfdf8",
   "metadata": {},
   "outputs": [],
   "source": [
    "import pandas as pd\n",
    "import warnings\n",
    "warnings.filterwarnings(\"ignore\")"
   ]
  },
  {
   "cell_type": "markdown",
   "id": "b3c2be4c",
   "metadata": {},
   "source": [
    "## Comments Cleaning"
   ]
  },
  {
   "cell_type": "code",
   "execution_count": null,
   "id": "0a22cd7f",
   "metadata": {},
   "outputs": [],
   "source": [
    "comments= pd.read_csv(\"comments.csv\")"
   ]
  },
  {
   "cell_type": "code",
   "execution_count": 6,
   "id": "cf5c05fd",
   "metadata": {},
   "outputs": [
    {
     "data": {
      "text/html": [
       "<div>\n",
       "<style scoped>\n",
       "    .dataframe tbody tr th:only-of-type {\n",
       "        vertical-align: middle;\n",
       "    }\n",
       "\n",
       "    .dataframe tbody tr th {\n",
       "        vertical-align: top;\n",
       "    }\n",
       "\n",
       "    .dataframe thead th {\n",
       "        text-align: right;\n",
       "    }\n",
       "</style>\n",
       "<table border=\"1\" class=\"dataframe\">\n",
       "  <thead>\n",
       "    <tr style=\"text-align: right;\">\n",
       "      <th></th>\n",
       "      <th>id</th>\n",
       "      <th>comment</th>\n",
       "      <th>User  id</th>\n",
       "      <th>Photo id</th>\n",
       "      <th>created Timestamp</th>\n",
       "      <th>posted date</th>\n",
       "      <th>emoji used</th>\n",
       "      <th>Hashtags used count</th>\n",
       "    </tr>\n",
       "  </thead>\n",
       "  <tbody>\n",
       "    <tr>\n",
       "      <th>0</th>\n",
       "      <td>1</td>\n",
       "      <td>unde at dolorem</td>\n",
       "      <td>2</td>\n",
       "      <td>1</td>\n",
       "      <td>13-04-2023 08:04</td>\n",
       "      <td>April 14</td>\n",
       "      <td>yes</td>\n",
       "      <td>1</td>\n",
       "    </tr>\n",
       "    <tr>\n",
       "      <th>1</th>\n",
       "      <td>2</td>\n",
       "      <td>quae ea ducimus</td>\n",
       "      <td>3</td>\n",
       "      <td>1</td>\n",
       "      <td>13-04-2023 08:04</td>\n",
       "      <td>April 14</td>\n",
       "      <td>no</td>\n",
       "      <td>2</td>\n",
       "    </tr>\n",
       "    <tr>\n",
       "      <th>2</th>\n",
       "      <td>3</td>\n",
       "      <td>alias a voluptatum</td>\n",
       "      <td>5</td>\n",
       "      <td>1</td>\n",
       "      <td>13-04-2023 08:04</td>\n",
       "      <td>April 14</td>\n",
       "      <td>no</td>\n",
       "      <td>4</td>\n",
       "    </tr>\n",
       "    <tr>\n",
       "      <th>3</th>\n",
       "      <td>4</td>\n",
       "      <td>facere suscipit sunt</td>\n",
       "      <td>14</td>\n",
       "      <td>1</td>\n",
       "      <td>13-04-2023 08:04</td>\n",
       "      <td>April 14</td>\n",
       "      <td>yes</td>\n",
       "      <td>2</td>\n",
       "    </tr>\n",
       "    <tr>\n",
       "      <th>4</th>\n",
       "      <td>5</td>\n",
       "      <td>totam eligendi quaerat</td>\n",
       "      <td>17</td>\n",
       "      <td>1</td>\n",
       "      <td>13-04-2023 08:04</td>\n",
       "      <td>April 14</td>\n",
       "      <td>yes</td>\n",
       "      <td>1</td>\n",
       "    </tr>\n",
       "  </tbody>\n",
       "</table>\n",
       "</div>"
      ],
      "text/plain": [
       "   id                 comment  User  id  Photo id created Timestamp  \\\n",
       "0   1         unde at dolorem         2         1  13-04-2023 08:04   \n",
       "1   2         quae ea ducimus         3         1  13-04-2023 08:04   \n",
       "2   3      alias a voluptatum         5         1  13-04-2023 08:04   \n",
       "3   4    facere suscipit sunt        14         1  13-04-2023 08:04   \n",
       "4   5  totam eligendi quaerat        17         1  13-04-2023 08:04   \n",
       "\n",
       "  posted date emoji used  Hashtags used count  \n",
       "0    April 14        yes                    1  \n",
       "1    April 14         no                    2  \n",
       "2    April 14         no                    4  \n",
       "3    April 14        yes                    2  \n",
       "4    April 14        yes                    1  "
      ]
     },
     "execution_count": 6,
     "metadata": {},
     "output_type": "execute_result"
    }
   ],
   "source": [
    "comments.head()"
   ]
  },
  {
   "cell_type": "code",
   "execution_count": 8,
   "id": "d10a9105",
   "metadata": {},
   "outputs": [],
   "source": [
    "comments.drop(['posted date', 'emoji used', 'Hashtags used count'], axis = 1, inplace = True)"
   ]
  },
  {
   "cell_type": "code",
   "execution_count": 16,
   "id": "d0f12894",
   "metadata": {},
   "outputs": [],
   "source": [
    "#rename columns, only these columns are allowed in the dataset\n",
    "    # 1.\tid\n",
    "    # 2.\tcomment_text\n",
    "    # 3.\tuser_id\n",
    "    # 4.\tphoto_id\n",
    "    # 5.\tcreated_at\n",
    "comments.rename(columns = {'comment': 'comment_text', 'User  id': 'user_id', 'Photo id':'photo_id', 'created Timestamp':'created_at'}, inplace = True )"
   ]
  },
  {
   "cell_type": "code",
   "execution_count": 17,
   "id": "3d5b1756",
   "metadata": {},
   "outputs": [
    {
     "data": {
      "text/html": [
       "<div>\n",
       "<style scoped>\n",
       "    .dataframe tbody tr th:only-of-type {\n",
       "        vertical-align: middle;\n",
       "    }\n",
       "\n",
       "    .dataframe tbody tr th {\n",
       "        vertical-align: top;\n",
       "    }\n",
       "\n",
       "    .dataframe thead th {\n",
       "        text-align: right;\n",
       "    }\n",
       "</style>\n",
       "<table border=\"1\" class=\"dataframe\">\n",
       "  <thead>\n",
       "    <tr style=\"text-align: right;\">\n",
       "      <th></th>\n",
       "      <th>id</th>\n",
       "      <th>comment_text</th>\n",
       "      <th>user_id</th>\n",
       "      <th>photo_id</th>\n",
       "      <th>created_at</th>\n",
       "    </tr>\n",
       "  </thead>\n",
       "  <tbody>\n",
       "    <tr>\n",
       "      <th>0</th>\n",
       "      <td>1</td>\n",
       "      <td>unde at dolorem</td>\n",
       "      <td>2</td>\n",
       "      <td>1</td>\n",
       "      <td>13-04-2023 08:04</td>\n",
       "    </tr>\n",
       "    <tr>\n",
       "      <th>1</th>\n",
       "      <td>2</td>\n",
       "      <td>quae ea ducimus</td>\n",
       "      <td>3</td>\n",
       "      <td>1</td>\n",
       "      <td>13-04-2023 08:04</td>\n",
       "    </tr>\n",
       "    <tr>\n",
       "      <th>2</th>\n",
       "      <td>3</td>\n",
       "      <td>alias a voluptatum</td>\n",
       "      <td>5</td>\n",
       "      <td>1</td>\n",
       "      <td>13-04-2023 08:04</td>\n",
       "    </tr>\n",
       "    <tr>\n",
       "      <th>3</th>\n",
       "      <td>4</td>\n",
       "      <td>facere suscipit sunt</td>\n",
       "      <td>14</td>\n",
       "      <td>1</td>\n",
       "      <td>13-04-2023 08:04</td>\n",
       "    </tr>\n",
       "    <tr>\n",
       "      <th>4</th>\n",
       "      <td>5</td>\n",
       "      <td>totam eligendi quaerat</td>\n",
       "      <td>17</td>\n",
       "      <td>1</td>\n",
       "      <td>13-04-2023 08:04</td>\n",
       "    </tr>\n",
       "    <tr>\n",
       "      <th>...</th>\n",
       "      <td>...</td>\n",
       "      <td>...</td>\n",
       "      <td>...</td>\n",
       "      <td>...</td>\n",
       "      <td>...</td>\n",
       "    </tr>\n",
       "    <tr>\n",
       "      <th>7483</th>\n",
       "      <td>7484</td>\n",
       "      <td>accusamus vel est</td>\n",
       "      <td>82</td>\n",
       "      <td>257</td>\n",
       "      <td>13-04-2023 08:04</td>\n",
       "    </tr>\n",
       "    <tr>\n",
       "      <th>7484</th>\n",
       "      <td>7485</td>\n",
       "      <td>sit nulla qui</td>\n",
       "      <td>91</td>\n",
       "      <td>257</td>\n",
       "      <td>13-04-2023 08:04</td>\n",
       "    </tr>\n",
       "    <tr>\n",
       "      <th>7485</th>\n",
       "      <td>7486</td>\n",
       "      <td>sed quidem vitae</td>\n",
       "      <td>93</td>\n",
       "      <td>257</td>\n",
       "      <td>13-04-2023 08:04</td>\n",
       "    </tr>\n",
       "    <tr>\n",
       "      <th>7486</th>\n",
       "      <td>7487</td>\n",
       "      <td>dolorem eveniet rerum</td>\n",
       "      <td>95</td>\n",
       "      <td>257</td>\n",
       "      <td>13-04-2023 08:04</td>\n",
       "    </tr>\n",
       "    <tr>\n",
       "      <th>7487</th>\n",
       "      <td>7488</td>\n",
       "      <td>dolores nihil voluptas</td>\n",
       "      <td>96</td>\n",
       "      <td>257</td>\n",
       "      <td>13-04-2023 08:04</td>\n",
       "    </tr>\n",
       "  </tbody>\n",
       "</table>\n",
       "<p>7488 rows × 5 columns</p>\n",
       "</div>"
      ],
      "text/plain": [
       "        id            comment_text  user_id  photo_id        created_at\n",
       "0        1         unde at dolorem        2         1  13-04-2023 08:04\n",
       "1        2         quae ea ducimus        3         1  13-04-2023 08:04\n",
       "2        3      alias a voluptatum        5         1  13-04-2023 08:04\n",
       "3        4    facere suscipit sunt       14         1  13-04-2023 08:04\n",
       "4        5  totam eligendi quaerat       17         1  13-04-2023 08:04\n",
       "...    ...                     ...      ...       ...               ...\n",
       "7483  7484       accusamus vel est       82       257  13-04-2023 08:04\n",
       "7484  7485           sit nulla qui       91       257  13-04-2023 08:04\n",
       "7485  7486        sed quidem vitae       93       257  13-04-2023 08:04\n",
       "7486  7487   dolorem eveniet rerum       95       257  13-04-2023 08:04\n",
       "7487  7488  dolores nihil voluptas       96       257  13-04-2023 08:04\n",
       "\n",
       "[7488 rows x 5 columns]"
      ]
     },
     "execution_count": 17,
     "metadata": {},
     "output_type": "execute_result"
    }
   ],
   "source": [
    "comments"
   ]
  },
  {
   "cell_type": "code",
   "execution_count": 71,
   "id": "b234094b",
   "metadata": {},
   "outputs": [],
   "source": []
  },
  {
   "cell_type": "code",
   "execution_count": 74,
   "id": "8b7d90ff",
   "metadata": {},
   "outputs": [],
   "source": [
    "comments['created_at'] = pd.to_datetime(comments['created_at'])\n",
    "comments.to_csv(\"comments.cleaned.csv\", index = False, encoding = 'utf-8')"
   ]
  },
  {
   "cell_type": "markdown",
   "id": "ed536983",
   "metadata": {},
   "source": [
    "## Follows Cleaning"
   ]
  },
  {
   "cell_type": "code",
   "execution_count": 19,
   "id": "42bf5344",
   "metadata": {},
   "outputs": [],
   "source": [
    "    #rename columns, only these columns are allowed in the dataset\n",
    "    # 1.\tfollower_id\n",
    "    # 2.\tfollowee_id\n",
    "    # 3.\tcreated_at"
   ]
  },
  {
   "cell_type": "code",
   "execution_count": 20,
   "id": "eb116f93",
   "metadata": {},
   "outputs": [],
   "source": [
    "follows = pd.read_csv(\"follows.csv\")"
   ]
  },
  {
   "cell_type": "code",
   "execution_count": 22,
   "id": "20046abe",
   "metadata": {},
   "outputs": [],
   "source": [
    "follows.drop(['is follower active', 'followee Acc status'], axis = 1, inplace = True)"
   ]
  },
  {
   "cell_type": "code",
   "execution_count": 27,
   "id": "c1a38378",
   "metadata": {},
   "outputs": [
    {
     "data": {
      "text/html": [
       "<div>\n",
       "<style scoped>\n",
       "    .dataframe tbody tr th:only-of-type {\n",
       "        vertical-align: middle;\n",
       "    }\n",
       "\n",
       "    .dataframe tbody tr th {\n",
       "        vertical-align: top;\n",
       "    }\n",
       "\n",
       "    .dataframe thead th {\n",
       "        text-align: right;\n",
       "    }\n",
       "</style>\n",
       "<table border=\"1\" class=\"dataframe\">\n",
       "  <thead>\n",
       "    <tr style=\"text-align: right;\">\n",
       "      <th></th>\n",
       "      <th>follower_id</th>\n",
       "      <th>followee_id</th>\n",
       "      <th>created_at</th>\n",
       "    </tr>\n",
       "  </thead>\n",
       "  <tbody>\n",
       "    <tr>\n",
       "      <th>0</th>\n",
       "      <td>2</td>\n",
       "      <td>1</td>\n",
       "      <td>13-04-2023 08:04</td>\n",
       "    </tr>\n",
       "    <tr>\n",
       "      <th>1</th>\n",
       "      <td>2</td>\n",
       "      <td>3</td>\n",
       "      <td>13-04-2023 08:04</td>\n",
       "    </tr>\n",
       "    <tr>\n",
       "      <th>2</th>\n",
       "      <td>2</td>\n",
       "      <td>4</td>\n",
       "      <td>13-04-2023 08:04</td>\n",
       "    </tr>\n",
       "    <tr>\n",
       "      <th>3</th>\n",
       "      <td>2</td>\n",
       "      <td>5</td>\n",
       "      <td>13-04-2023 08:04</td>\n",
       "    </tr>\n",
       "    <tr>\n",
       "      <th>4</th>\n",
       "      <td>2</td>\n",
       "      <td>6</td>\n",
       "      <td>13-04-2023 08:04</td>\n",
       "    </tr>\n",
       "  </tbody>\n",
       "</table>\n",
       "</div>"
      ],
      "text/plain": [
       "   follower_id  followee_id        created_at\n",
       "0            2            1  13-04-2023 08:04\n",
       "1            2            3  13-04-2023 08:04\n",
       "2            2            4  13-04-2023 08:04\n",
       "3            2            5  13-04-2023 08:04\n",
       "4            2            6  13-04-2023 08:04"
      ]
     },
     "execution_count": 27,
     "metadata": {},
     "output_type": "execute_result"
    }
   ],
   "source": [
    "follows.rename(columns = {'follower':'follower_id', 'followee ':'followee_id', 'created time':'created_at'}, inplace = True)\n",
    "follows.head()"
   ]
  },
  {
   "cell_type": "code",
   "execution_count": 25,
   "id": "fe9b6c84",
   "metadata": {},
   "outputs": [
    {
     "data": {
      "text/plain": [
       "Index(['follower', 'followee ', 'created time'], dtype='object')"
      ]
     },
     "execution_count": 25,
     "metadata": {},
     "output_type": "execute_result"
    }
   ],
   "source": [
    "follows.columns"
   ]
  },
  {
   "cell_type": "code",
   "execution_count": 75,
   "id": "7b869087",
   "metadata": {},
   "outputs": [],
   "source": [
    "follows['created_at'] = pd.to_datetime(follows['created_at'])\n",
    "follows.to_csv(\"follows_cleaned.csv\", index = False, encoding = 'utf-8')"
   ]
  },
  {
   "cell_type": "markdown",
   "id": "a5179ffa",
   "metadata": {},
   "source": [
    "## Likes Cleaning"
   ]
  },
  {
   "cell_type": "code",
   "execution_count": 28,
   "id": "e2c09435",
   "metadata": {},
   "outputs": [],
   "source": [
    "    #rename columns, only these columns are allowed in the dataset\n",
    "    # 1.\tuser_id\n",
    "    # 2.\tphoto_id\n",
    "    # 3.\tcreated_at"
   ]
  },
  {
   "cell_type": "code",
   "execution_count": 29,
   "id": "0707c917",
   "metadata": {},
   "outputs": [],
   "source": [
    "likes = pd.read_csv('likes.csv')"
   ]
  },
  {
   "cell_type": "code",
   "execution_count": 31,
   "id": "df6213ce",
   "metadata": {},
   "outputs": [
    {
     "data": {
      "text/html": [
       "<div>\n",
       "<style scoped>\n",
       "    .dataframe tbody tr th:only-of-type {\n",
       "        vertical-align: middle;\n",
       "    }\n",
       "\n",
       "    .dataframe tbody tr th {\n",
       "        vertical-align: top;\n",
       "    }\n",
       "\n",
       "    .dataframe thead th {\n",
       "        text-align: right;\n",
       "    }\n",
       "</style>\n",
       "<table border=\"1\" class=\"dataframe\">\n",
       "  <thead>\n",
       "    <tr style=\"text-align: right;\">\n",
       "      <th></th>\n",
       "      <th>user</th>\n",
       "      <th>photo</th>\n",
       "      <th>created time</th>\n",
       "    </tr>\n",
       "  </thead>\n",
       "  <tbody>\n",
       "    <tr>\n",
       "      <th>0</th>\n",
       "      <td>2</td>\n",
       "      <td>1</td>\n",
       "      <td>13-04-2023 08:04</td>\n",
       "    </tr>\n",
       "    <tr>\n",
       "      <th>1</th>\n",
       "      <td>2</td>\n",
       "      <td>4</td>\n",
       "      <td>13-04-2023 08:04</td>\n",
       "    </tr>\n",
       "    <tr>\n",
       "      <th>2</th>\n",
       "      <td>2</td>\n",
       "      <td>8</td>\n",
       "      <td>13-04-2023 08:04</td>\n",
       "    </tr>\n",
       "    <tr>\n",
       "      <th>3</th>\n",
       "      <td>2</td>\n",
       "      <td>9</td>\n",
       "      <td>13-04-2023 08:04</td>\n",
       "    </tr>\n",
       "    <tr>\n",
       "      <th>4</th>\n",
       "      <td>2</td>\n",
       "      <td>10</td>\n",
       "      <td>13-04-2023 08:04</td>\n",
       "    </tr>\n",
       "  </tbody>\n",
       "</table>\n",
       "</div>"
      ],
      "text/plain": [
       "   user   photo      created time\n",
       "0      2      1  13-04-2023 08:04\n",
       "1      2      4  13-04-2023 08:04\n",
       "2      2      8  13-04-2023 08:04\n",
       "3      2      9  13-04-2023 08:04\n",
       "4      2     10  13-04-2023 08:04"
      ]
     },
     "execution_count": 31,
     "metadata": {},
     "output_type": "execute_result"
    }
   ],
   "source": [
    "likes.drop(['following or not', 'like type'], axis = 1, inplace = True)\n",
    "likes.head()"
   ]
  },
  {
   "cell_type": "code",
   "execution_count": 34,
   "id": "b8f165be",
   "metadata": {},
   "outputs": [
    {
     "data": {
      "text/html": [
       "<div>\n",
       "<style scoped>\n",
       "    .dataframe tbody tr th:only-of-type {\n",
       "        vertical-align: middle;\n",
       "    }\n",
       "\n",
       "    .dataframe tbody tr th {\n",
       "        vertical-align: top;\n",
       "    }\n",
       "\n",
       "    .dataframe thead th {\n",
       "        text-align: right;\n",
       "    }\n",
       "</style>\n",
       "<table border=\"1\" class=\"dataframe\">\n",
       "  <thead>\n",
       "    <tr style=\"text-align: right;\">\n",
       "      <th></th>\n",
       "      <th>user_id</th>\n",
       "      <th>photo_id</th>\n",
       "      <th>created_at</th>\n",
       "    </tr>\n",
       "  </thead>\n",
       "  <tbody>\n",
       "    <tr>\n",
       "      <th>0</th>\n",
       "      <td>2</td>\n",
       "      <td>1</td>\n",
       "      <td>13-04-2023 08:04</td>\n",
       "    </tr>\n",
       "    <tr>\n",
       "      <th>1</th>\n",
       "      <td>2</td>\n",
       "      <td>4</td>\n",
       "      <td>13-04-2023 08:04</td>\n",
       "    </tr>\n",
       "    <tr>\n",
       "      <th>2</th>\n",
       "      <td>2</td>\n",
       "      <td>8</td>\n",
       "      <td>13-04-2023 08:04</td>\n",
       "    </tr>\n",
       "    <tr>\n",
       "      <th>3</th>\n",
       "      <td>2</td>\n",
       "      <td>9</td>\n",
       "      <td>13-04-2023 08:04</td>\n",
       "    </tr>\n",
       "    <tr>\n",
       "      <th>4</th>\n",
       "      <td>2</td>\n",
       "      <td>10</td>\n",
       "      <td>13-04-2023 08:04</td>\n",
       "    </tr>\n",
       "  </tbody>\n",
       "</table>\n",
       "</div>"
      ],
      "text/plain": [
       "   user_id  photo_id        created_at\n",
       "0        2         1  13-04-2023 08:04\n",
       "1        2         4  13-04-2023 08:04\n",
       "2        2         8  13-04-2023 08:04\n",
       "3        2         9  13-04-2023 08:04\n",
       "4        2        10  13-04-2023 08:04"
      ]
     },
     "execution_count": 34,
     "metadata": {},
     "output_type": "execute_result"
    }
   ],
   "source": [
    "likes.rename(columns = {'user ':'user_id', 'photo':'photo_id', 'created time':'created_at'}, inplace = True)\n",
    "likes.head()\n"
   ]
  },
  {
   "cell_type": "code",
   "execution_count": 33,
   "id": "b4066d2f",
   "metadata": {},
   "outputs": [
    {
     "data": {
      "text/plain": [
       "Index(['user ', 'photo_id', 'created_at'], dtype='object')"
      ]
     },
     "execution_count": 33,
     "metadata": {},
     "output_type": "execute_result"
    }
   ],
   "source": [
    "likes.columns"
   ]
  },
  {
   "cell_type": "code",
   "execution_count": 77,
   "id": "c437ce9c",
   "metadata": {},
   "outputs": [],
   "source": [
    "likes['created_at'] = pd.to_datetime(likes['created_at'])\n",
    "likes.to_csv(\"likes_cleaned.csv\", index = False, encoding = 'utf-8')"
   ]
  },
  {
   "cell_type": "markdown",
   "id": "d2e3c550",
   "metadata": {},
   "source": [
    "## Photos Tag Cleaning"
   ]
  },
  {
   "cell_type": "code",
   "execution_count": null,
   "id": "2f185695",
   "metadata": {},
   "outputs": [],
   "source": [
    "    #rename columns, only these columns are allowed in the dataset\n",
    "    # 1.\tphoto_id\n",
    "    # 2.\ttag_id"
   ]
  },
  {
   "cell_type": "code",
   "execution_count": 36,
   "id": "4ed45878",
   "metadata": {},
   "outputs": [],
   "source": [
    "photo_tags = pd.read_csv(\"photo_tags.csv\")"
   ]
  },
  {
   "cell_type": "code",
   "execution_count": 40,
   "id": "795adb69",
   "metadata": {},
   "outputs": [],
   "source": [
    "photo_tags.drop('user id', axis = 1, inplace = True)"
   ]
  },
  {
   "cell_type": "code",
   "execution_count": 43,
   "id": "dd98b6d2",
   "metadata": {},
   "outputs": [],
   "source": [
    "photo_tags.rename(columns = {'photo':'photo_id', 'tag ID':'tag_id'}, inplace = True)\n"
   ]
  },
  {
   "cell_type": "code",
   "execution_count": 44,
   "id": "bd2998a5",
   "metadata": {},
   "outputs": [
    {
     "data": {
      "text/plain": [
       "Index(['photo_id', 'tag_id'], dtype='object')"
      ]
     },
     "execution_count": 44,
     "metadata": {},
     "output_type": "execute_result"
    }
   ],
   "source": [
    "photo_tags.columns"
   ]
  },
  {
   "cell_type": "code",
   "execution_count": 78,
   "id": "3ded9874",
   "metadata": {},
   "outputs": [],
   "source": [
    "photo_tags.to_csv(\"photo_tags_cleaned.csv\", index = False, encoding = 'utf-8')"
   ]
  },
  {
   "cell_type": "markdown",
   "id": "bb263fee",
   "metadata": {},
   "source": [
    "## Photos Cleaning"
   ]
  },
  {
   "cell_type": "code",
   "execution_count": 45,
   "id": "1b04f2ca",
   "metadata": {},
   "outputs": [],
   "source": [
    "    #rename columns, only these columns are allowed in the dataset\n",
    "    # 1.\tid\n",
    "    # 2.\timage_url\n",
    "    # 3.\tuser_id\n",
    "    # 4.\tcreated_date"
   ]
  },
  {
   "cell_type": "code",
   "execution_count": 46,
   "id": "d052be2b",
   "metadata": {},
   "outputs": [],
   "source": [
    "photos = pd.read_csv(\"photos.csv\")"
   ]
  },
  {
   "cell_type": "code",
   "execution_count": 49,
   "id": "1fdf7709",
   "metadata": {},
   "outputs": [],
   "source": [
    "photos.drop(['Insta filter used','photo type'], axis = 1, inplace = True)"
   ]
  },
  {
   "cell_type": "code",
   "execution_count": 48,
   "id": "d85971f0",
   "metadata": {},
   "outputs": [
    {
     "data": {
      "text/plain": [
       "Index(['id', 'image link', 'user ID', 'created dat', 'Insta filter used',\n",
       "       'photo type'],\n",
       "      dtype='object')"
      ]
     },
     "execution_count": 48,
     "metadata": {},
     "output_type": "execute_result"
    }
   ],
   "source": [
    "photos.columns"
   ]
  },
  {
   "cell_type": "code",
   "execution_count": 52,
   "id": "c127e3fd",
   "metadata": {},
   "outputs": [],
   "source": [
    "photos.rename(columns = {'image link':'image_url', 'user ID':'user_id', 'created dat':'created_date'}, inplace = True)\n"
   ]
  },
  {
   "cell_type": "code",
   "execution_count": 53,
   "id": "6dc06e44",
   "metadata": {},
   "outputs": [
    {
     "data": {
      "text/html": [
       "<div>\n",
       "<style scoped>\n",
       "    .dataframe tbody tr th:only-of-type {\n",
       "        vertical-align: middle;\n",
       "    }\n",
       "\n",
       "    .dataframe tbody tr th {\n",
       "        vertical-align: top;\n",
       "    }\n",
       "\n",
       "    .dataframe thead th {\n",
       "        text-align: right;\n",
       "    }\n",
       "</style>\n",
       "<table border=\"1\" class=\"dataframe\">\n",
       "  <thead>\n",
       "    <tr style=\"text-align: right;\">\n",
       "      <th></th>\n",
       "      <th>id</th>\n",
       "      <th>image_url</th>\n",
       "      <th>user_id</th>\n",
       "      <th>created_date</th>\n",
       "    </tr>\n",
       "  </thead>\n",
       "  <tbody>\n",
       "    <tr>\n",
       "      <th>0</th>\n",
       "      <td>1</td>\n",
       "      <td>http://elijah.biz</td>\n",
       "      <td>1</td>\n",
       "      <td>13-04-2023 08:04</td>\n",
       "    </tr>\n",
       "    <tr>\n",
       "      <th>1</th>\n",
       "      <td>2</td>\n",
       "      <td>https://shanon.org</td>\n",
       "      <td>1</td>\n",
       "      <td>13-04-2023 08:04</td>\n",
       "    </tr>\n",
       "    <tr>\n",
       "      <th>2</th>\n",
       "      <td>3</td>\n",
       "      <td>http://vicky.biz</td>\n",
       "      <td>1</td>\n",
       "      <td>13-04-2023 08:04</td>\n",
       "    </tr>\n",
       "    <tr>\n",
       "      <th>3</th>\n",
       "      <td>4</td>\n",
       "      <td>http://oleta.net</td>\n",
       "      <td>1</td>\n",
       "      <td>13-04-2023 08:04</td>\n",
       "    </tr>\n",
       "    <tr>\n",
       "      <th>4</th>\n",
       "      <td>5</td>\n",
       "      <td>https://jennings.biz</td>\n",
       "      <td>1</td>\n",
       "      <td>13-04-2023 08:04</td>\n",
       "    </tr>\n",
       "  </tbody>\n",
       "</table>\n",
       "</div>"
      ],
      "text/plain": [
       "   id             image_url  user_id      created_date\n",
       "0   1     http://elijah.biz        1  13-04-2023 08:04\n",
       "1   2    https://shanon.org        1  13-04-2023 08:04\n",
       "2   3      http://vicky.biz        1  13-04-2023 08:04\n",
       "3   4      http://oleta.net        1  13-04-2023 08:04\n",
       "4   5  https://jennings.biz        1  13-04-2023 08:04"
      ]
     },
     "execution_count": 53,
     "metadata": {},
     "output_type": "execute_result"
    }
   ],
   "source": [
    "photos.head()"
   ]
  },
  {
   "cell_type": "code",
   "execution_count": 79,
   "id": "238bb059",
   "metadata": {},
   "outputs": [],
   "source": [
    "photos['created_date'] = pd.to_datetime(photos['created_date'])\n",
    "photos.to_csv(\"photos_cleaned.csv\", index = False, encoding = 'utf-8')"
   ]
  },
  {
   "cell_type": "markdown",
   "id": "875ecbb7",
   "metadata": {},
   "source": [
    "## Tags Cleaning"
   ]
  },
  {
   "cell_type": "code",
   "execution_count": 55,
   "id": "536aca5f",
   "metadata": {},
   "outputs": [],
   "source": [
    "    #rename columns, only these columns are allowed in the dataset\n",
    "    # 1.\tid\n",
    "    # 2.\ttag_name\n",
    "    # 3.\tcreated_at"
   ]
  },
  {
   "cell_type": "code",
   "execution_count": 61,
   "id": "132ba55c",
   "metadata": {},
   "outputs": [],
   "source": [
    "tags = pd.read_csv(\"tags.csv\")"
   ]
  },
  {
   "cell_type": "code",
   "execution_count": 62,
   "id": "83faa51f",
   "metadata": {},
   "outputs": [
    {
     "data": {
      "text/plain": [
       "Index(['id', 'tag text', 'created time', 'location'], dtype='object')"
      ]
     },
     "execution_count": 62,
     "metadata": {},
     "output_type": "execute_result"
    }
   ],
   "source": [
    "tags.columns"
   ]
  },
  {
   "cell_type": "code",
   "execution_count": 63,
   "id": "e0eabd32",
   "metadata": {},
   "outputs": [],
   "source": [
    "tags.drop('location', axis = 1, inplace = True)\n",
    "tags.rename(columns = {'tag text':'tag_name', 'created time':'created_at'}, inplace = True)"
   ]
  },
  {
   "cell_type": "code",
   "execution_count": 80,
   "id": "a8545cb3",
   "metadata": {},
   "outputs": [],
   "source": [
    "tags['created_at'] = pd.to_datetime(tags['created_at'])\n",
    "tags.to_csv(\"tags_cleaned.csv\", index = False, encoding = 'utf-8')"
   ]
  },
  {
   "cell_type": "markdown",
   "id": "10f1fd98",
   "metadata": {},
   "source": [
    "## Users cleaning"
   ]
  },
  {
   "cell_type": "code",
   "execution_count": 64,
   "id": "e14d2cc1",
   "metadata": {},
   "outputs": [],
   "source": [
    "    #rename columns, only these columns are allowed in the dataset\n",
    "    # 1.\tid\n",
    "    # 2.\tusername\n",
    "    # 3.\tcreated_at"
   ]
  },
  {
   "cell_type": "code",
   "execution_count": 65,
   "id": "f211c982",
   "metadata": {},
   "outputs": [],
   "source": [
    "users = pd.read_csv(\"users.csv\")"
   ]
  },
  {
   "cell_type": "code",
   "execution_count": 66,
   "id": "a29d057f",
   "metadata": {},
   "outputs": [
    {
     "data": {
      "text/plain": [
       "Index(['id', 'name', 'created time', 'private/public', 'post count',\n",
       "       'Verified status'],\n",
       "      dtype='object')"
      ]
     },
     "execution_count": 66,
     "metadata": {},
     "output_type": "execute_result"
    }
   ],
   "source": [
    "users.columns"
   ]
  },
  {
   "cell_type": "code",
   "execution_count": 67,
   "id": "108eee59",
   "metadata": {},
   "outputs": [],
   "source": [
    "users.drop(['private/public', 'post count', 'Verified status'], axis = 1, inplace = True)\n",
    "users.rename(columns = {'name':'username', 'created time':'created_at'}, inplace = True)"
   ]
  },
  {
   "cell_type": "code",
   "execution_count": 69,
   "id": "9e483fb6",
   "metadata": {},
   "outputs": [
    {
     "data": {
      "text/html": [
       "<div>\n",
       "<style scoped>\n",
       "    .dataframe tbody tr th:only-of-type {\n",
       "        vertical-align: middle;\n",
       "    }\n",
       "\n",
       "    .dataframe tbody tr th {\n",
       "        vertical-align: top;\n",
       "    }\n",
       "\n",
       "    .dataframe thead th {\n",
       "        text-align: right;\n",
       "    }\n",
       "</style>\n",
       "<table border=\"1\" class=\"dataframe\">\n",
       "  <thead>\n",
       "    <tr style=\"text-align: right;\">\n",
       "      <th></th>\n",
       "      <th>id</th>\n",
       "      <th>username</th>\n",
       "      <th>created_at</th>\n",
       "    </tr>\n",
       "  </thead>\n",
       "  <tbody>\n",
       "    <tr>\n",
       "      <th>0</th>\n",
       "      <td>1</td>\n",
       "      <td>Kenton_Kirlin</td>\n",
       "      <td>16-02-2017 18:22</td>\n",
       "    </tr>\n",
       "    <tr>\n",
       "      <th>1</th>\n",
       "      <td>2</td>\n",
       "      <td>Andre_Purdy85</td>\n",
       "      <td>02-04-2017 17:11</td>\n",
       "    </tr>\n",
       "    <tr>\n",
       "      <th>2</th>\n",
       "      <td>3</td>\n",
       "      <td>Harley_Lind18</td>\n",
       "      <td>21-02-2017 11:12</td>\n",
       "    </tr>\n",
       "    <tr>\n",
       "      <th>3</th>\n",
       "      <td>4</td>\n",
       "      <td>Arely_Bogan63</td>\n",
       "      <td>13-08-2016 01:28</td>\n",
       "    </tr>\n",
       "    <tr>\n",
       "      <th>4</th>\n",
       "      <td>5</td>\n",
       "      <td>Aniya_Hackett</td>\n",
       "      <td>07-12-2016 01:04</td>\n",
       "    </tr>\n",
       "  </tbody>\n",
       "</table>\n",
       "</div>"
      ],
      "text/plain": [
       "   id       username        created_at\n",
       "0   1  Kenton_Kirlin  16-02-2017 18:22\n",
       "1   2  Andre_Purdy85  02-04-2017 17:11\n",
       "2   3  Harley_Lind18  21-02-2017 11:12\n",
       "3   4  Arely_Bogan63  13-08-2016 01:28\n",
       "4   5  Aniya_Hackett  07-12-2016 01:04"
      ]
     },
     "execution_count": 69,
     "metadata": {},
     "output_type": "execute_result"
    }
   ],
   "source": [
    "users.head()"
   ]
  },
  {
   "cell_type": "code",
   "execution_count": 81,
   "id": "7d374e89",
   "metadata": {},
   "outputs": [],
   "source": [
    "users['created_at'] = pd.to_datetime(users['created_at'])\n",
    "users.to_csv(\"users_cleaned.csv\", index = False, encoding = 'utf-8')"
   ]
  },
  {
   "cell_type": "code",
   "execution_count": null,
   "id": "8d1d89ba",
   "metadata": {},
   "outputs": [],
   "source": []
  }
 ],
 "metadata": {
  "hide_input": false,
  "kernelspec": {
   "display_name": "Python 3 (ipykernel)",
   "language": "python",
   "name": "python3"
  },
  "language_info": {
   "codemirror_mode": {
    "name": "ipython",
    "version": 3
   },
   "file_extension": ".py",
   "mimetype": "text/x-python",
   "name": "python",
   "nbconvert_exporter": "python",
   "pygments_lexer": "ipython3",
   "version": "3.9.12"
  },
  "varInspector": {
   "cols": {
    "lenName": 16,
    "lenType": 16,
    "lenVar": 40
   },
   "kernels_config": {
    "python": {
     "delete_cmd_postfix": "",
     "delete_cmd_prefix": "del ",
     "library": "var_list.py",
     "varRefreshCmd": "print(var_dic_list())"
    },
    "r": {
     "delete_cmd_postfix": ") ",
     "delete_cmd_prefix": "rm(",
     "library": "var_list.r",
     "varRefreshCmd": "cat(var_dic_list()) "
    }
   },
   "types_to_exclude": [
    "module",
    "function",
    "builtin_function_or_method",
    "instance",
    "_Feature"
   ],
   "window_display": false
  }
 },
 "nbformat": 4,
 "nbformat_minor": 5
}
